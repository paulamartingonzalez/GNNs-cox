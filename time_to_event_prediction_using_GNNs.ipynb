{
  "nbformat": 4,
  "nbformat_minor": 0,
  "metadata": {
    "colab": {
      "name": "time to event prediction using GNNs.ipynb",
      "provenance": []
    },
    "kernelspec": {
      "name": "python3",
      "display_name": "Python 3"
    },
    "language_info": {
      "name": "python"
    }
  },
  "cells": [
    {
      "cell_type": "code",
      "metadata": {
        "colab": {
          "base_uri": "https://localhost:8080/"
        },
        "id": "BCIW9wUR7C98",
        "outputId": "bdef287d-4b4b-4853-f9c7-97cfb92082ea"
      },
      "source": [
        "# Install required packages.\n",
        "!pip install -q torch-scatter -f https://pytorch-geometric.com/whl/torch-1.9.0+cu102.html\n",
        "!pip install -q torch-sparse -f https://pytorch-geometric.com/whl/torch-1.9.0+cu102.html\n",
        "!pip install -q torch-geometric\n",
        "!pip install pycox"
      ],
      "execution_count": null,
      "outputs": [
        {
          "output_type": "stream",
          "text": [
            "\u001b[K     |████████████████████████████████| 3.0 MB 5.9 MB/s \n",
            "\u001b[K     |████████████████████████████████| 1.6 MB 3.5 MB/s \n",
            "\u001b[K     |████████████████████████████████| 222 kB 5.3 MB/s \n",
            "\u001b[K     |████████████████████████████████| 376 kB 9.9 MB/s \n",
            "\u001b[K     |████████████████████████████████| 45 kB 1.3 MB/s \n",
            "\u001b[?25h  Building wheel for torch-geometric (setup.py) ... \u001b[?25l\u001b[?25hdone\n",
            "Collecting pycox\n",
            "  Downloading pycox-0.2.2-py3-none-any.whl (73 kB)\n",
            "\u001b[K     |████████████████████████████████| 73 kB 1.4 MB/s \n",
            "\u001b[?25hRequirement already satisfied: h5py>=2.9.0 in /usr/local/lib/python3.7/dist-packages (from pycox) (3.1.0)\n",
            "Requirement already satisfied: numba>=0.44 in /usr/local/lib/python3.7/dist-packages (from pycox) (0.51.2)\n",
            "Collecting torchtuples>=0.2.0\n",
            "  Downloading torchtuples-0.2.0-py3-none-any.whl (41 kB)\n",
            "\u001b[K     |████████████████████████████████| 41 kB 460 kB/s \n",
            "\u001b[?25hRequirement already satisfied: feather-format>=0.4.0 in /usr/local/lib/python3.7/dist-packages (from pycox) (0.4.1)\n",
            "Collecting py7zr>=0.11.3\n",
            "  Downloading py7zr-0.16.1-py3-none-any.whl (65 kB)\n",
            "\u001b[K     |████████████████████████████████| 65 kB 2.5 MB/s \n",
            "\u001b[?25hRequirement already satisfied: requests>=2.22.0 in /usr/local/lib/python3.7/dist-packages (from pycox) (2.23.0)\n",
            "Requirement already satisfied: scikit-learn>=0.21.2 in /usr/local/lib/python3.7/dist-packages (from pycox) (0.22.2.post1)\n",
            "Requirement already satisfied: pyarrow>=0.4.0 in /usr/local/lib/python3.7/dist-packages (from feather-format>=0.4.0->pycox) (3.0.0)\n",
            "Requirement already satisfied: numpy>=1.14.5 in /usr/local/lib/python3.7/dist-packages (from h5py>=2.9.0->pycox) (1.19.5)\n",
            "Requirement already satisfied: cached-property in /usr/local/lib/python3.7/dist-packages (from h5py>=2.9.0->pycox) (1.5.2)\n",
            "Requirement already satisfied: llvmlite<0.35,>=0.34.0.dev0 in /usr/local/lib/python3.7/dist-packages (from numba>=0.44->pycox) (0.34.0)\n",
            "Requirement already satisfied: setuptools in /usr/local/lib/python3.7/dist-packages (from numba>=0.44->pycox) (57.2.0)\n",
            "Collecting multivolumefile>=0.2.3\n",
            "  Downloading multivolumefile-0.2.3-py3-none-any.whl (17 kB)\n",
            "Collecting bcj-cffi<0.6.0,>=0.5.1\n",
            "  Downloading bcj_cffi-0.5.1-cp37-cp37m-manylinux2014_x86_64.whl (36 kB)\n",
            "Collecting pycryptodomex>=3.6.6\n",
            "  Downloading pycryptodomex-3.10.1-cp35-abi3-manylinux2010_x86_64.whl (1.9 MB)\n",
            "\u001b[K     |████████████████████████████████| 1.9 MB 9.1 MB/s \n",
            "\u001b[?25hCollecting pyzstd<0.15.0,>=0.14.4\n",
            "  Downloading pyzstd-0.14.4-cp37-cp37m-manylinux2014_x86_64.whl (2.2 MB)\n",
            "\u001b[K     |████████████████████████████████| 2.2 MB 31.4 MB/s \n",
            "\u001b[?25hCollecting pyppmd>=0.14.0\n",
            "  Downloading pyppmd-0.15.2-cp37-cp37m-manylinux_2_17_x86_64.manylinux2014_x86_64.whl (121 kB)\n",
            "\u001b[K     |████████████████████████████████| 121 kB 62.4 MB/s \n",
            "\u001b[?25hRequirement already satisfied: importlib-metadata in /usr/local/lib/python3.7/dist-packages (from py7zr>=0.11.3->pycox) (4.6.1)\n",
            "Collecting brotli>=1.0.9\n",
            "  Downloading Brotli-1.0.9-cp37-cp37m-manylinux1_x86_64.whl (357 kB)\n",
            "\u001b[K     |████████████████████████████████| 357 kB 50.7 MB/s \n",
            "\u001b[?25hCollecting texttable\n",
            "  Downloading texttable-1.6.4-py2.py3-none-any.whl (10 kB)\n",
            "Requirement already satisfied: cffi>=1.14.0 in /usr/local/lib/python3.7/dist-packages (from bcj-cffi<0.6.0,>=0.5.1->py7zr>=0.11.3->pycox) (1.14.6)\n",
            "Requirement already satisfied: pycparser in /usr/local/lib/python3.7/dist-packages (from cffi>=1.14.0->bcj-cffi<0.6.0,>=0.5.1->py7zr>=0.11.3->pycox) (2.20)\n",
            "Requirement already satisfied: certifi>=2017.4.17 in /usr/local/lib/python3.7/dist-packages (from requests>=2.22.0->pycox) (2021.5.30)\n",
            "Requirement already satisfied: urllib3!=1.25.0,!=1.25.1,<1.26,>=1.21.1 in /usr/local/lib/python3.7/dist-packages (from requests>=2.22.0->pycox) (1.24.3)\n",
            "Requirement already satisfied: idna<3,>=2.5 in /usr/local/lib/python3.7/dist-packages (from requests>=2.22.0->pycox) (2.10)\n",
            "Requirement already satisfied: chardet<4,>=3.0.2 in /usr/local/lib/python3.7/dist-packages (from requests>=2.22.0->pycox) (3.0.4)\n",
            "Requirement already satisfied: joblib>=0.11 in /usr/local/lib/python3.7/dist-packages (from scikit-learn>=0.21.2->pycox) (1.0.1)\n",
            "Requirement already satisfied: scipy>=0.17.0 in /usr/local/lib/python3.7/dist-packages (from scikit-learn>=0.21.2->pycox) (1.4.1)\n",
            "Requirement already satisfied: pandas>=0.24.2 in /usr/local/lib/python3.7/dist-packages (from torchtuples>=0.2.0->pycox) (1.1.5)\n",
            "Requirement already satisfied: matplotlib>=3.0.3 in /usr/local/lib/python3.7/dist-packages (from torchtuples>=0.2.0->pycox) (3.2.2)\n",
            "Requirement already satisfied: kiwisolver>=1.0.1 in /usr/local/lib/python3.7/dist-packages (from matplotlib>=3.0.3->torchtuples>=0.2.0->pycox) (1.3.1)\n",
            "Requirement already satisfied: cycler>=0.10 in /usr/local/lib/python3.7/dist-packages (from matplotlib>=3.0.3->torchtuples>=0.2.0->pycox) (0.10.0)\n",
            "Requirement already satisfied: python-dateutil>=2.1 in /usr/local/lib/python3.7/dist-packages (from matplotlib>=3.0.3->torchtuples>=0.2.0->pycox) (2.8.1)\n",
            "Requirement already satisfied: pyparsing!=2.0.4,!=2.1.2,!=2.1.6,>=2.0.1 in /usr/local/lib/python3.7/dist-packages (from matplotlib>=3.0.3->torchtuples>=0.2.0->pycox) (2.4.7)\n",
            "Requirement already satisfied: six in /usr/local/lib/python3.7/dist-packages (from cycler>=0.10->matplotlib>=3.0.3->torchtuples>=0.2.0->pycox) (1.15.0)\n",
            "Requirement already satisfied: pytz>=2017.2 in /usr/local/lib/python3.7/dist-packages (from pandas>=0.24.2->torchtuples>=0.2.0->pycox) (2018.9)\n",
            "Requirement already satisfied: typing-extensions>=3.6.4 in /usr/local/lib/python3.7/dist-packages (from importlib-metadata->py7zr>=0.11.3->pycox) (3.7.4.3)\n",
            "Requirement already satisfied: zipp>=0.5 in /usr/local/lib/python3.7/dist-packages (from importlib-metadata->py7zr>=0.11.3->pycox) (3.5.0)\n",
            "Installing collected packages: texttable, pyzstd, pyppmd, pycryptodomex, multivolumefile, brotli, bcj-cffi, torchtuples, py7zr, pycox\n",
            "Successfully installed bcj-cffi-0.5.1 brotli-1.0.9 multivolumefile-0.2.3 py7zr-0.16.1 pycox-0.2.2 pycryptodomex-3.10.1 pyppmd-0.15.2 pyzstd-0.14.4 texttable-1.6.4 torchtuples-0.2.0\n"
          ],
          "name": "stdout"
        }
      ]
    },
    {
      "cell_type": "code",
      "metadata": {
        "id": "-T55QyGF7FPd"
      },
      "source": [
        "import numpy as np\n",
        "import matplotlib.pyplot as plt\n",
        "\n",
        "import torch\n",
        "import torch.nn as nn\n",
        "import torch.nn.functional as F\n",
        "from torch.utils.data import Dataset, DataLoader \n",
        "from torchvision import datasets, transforms\n",
        "import torchtuples as tt\n",
        "from pycox.models import LogisticHazard\n",
        "from pycox.utils import kaplan_meier\n",
        "from pycox.evaluation import EvalSurv\n",
        "from torch_geometric.datasets import TUDataset,MNISTSuperpixels\n",
        "import pandas as pd\n",
        "import torch\n",
        "import torch_geometric\n",
        "from torch_geometric.data import Dataset, Data\n",
        "import numpy as np \n",
        "import os\n",
        "from tqdm import tqdm\n",
        "import pandas as pd\n",
        "from scipy.spatial.distance import squareform\n",
        "from scipy.spatial.distance import pdist\n",
        "import time\n",
        "from scipy.sparse import csr_matrix\n",
        "import torch \n"
      ],
      "execution_count": null,
      "outputs": []
    },
    {
      "cell_type": "code",
      "metadata": {
        "id": "5R6-A1ul7Iuw"
      },
      "source": [
        "# for reproducability\n",
        "np.random.seed(1234)\n",
        "_ = torch.manual_seed(1234)"
      ],
      "execution_count": null,
      "outputs": []
    },
    {
      "cell_type": "markdown",
      "metadata": {
        "id": "yEL2FeYx7Mh-"
      },
      "source": [
        "import graph datasets"
      ]
    },
    {
      "cell_type": "code",
      "metadata": {
        "colab": {
          "base_uri": "https://localhost:8080/"
        },
        "id": "T_kOLrZE7KRa",
        "outputId": "96c1c106-69fb-4952-a54d-c278180687cf"
      },
      "source": [
        "mnist_train = MNISTSuperpixels(root='data/MNISTSuperpixels', train=True)\n",
        "mnist_test = MNISTSuperpixels(root='data/MNISTSuperpixels', train=False)"
      ],
      "execution_count": null,
      "outputs": [
        {
          "output_type": "stream",
          "text": [
            "Downloading https://graphics.cs.tu-dortmund.de/fileadmin/ls7-www/misc/cvpr/mnist_superpixels.tar.gz\n",
            "Extracting data/MNISTSuperpixels/raw/mnist_superpixels.tar.gz\n",
            "Processing...\n",
            "Done!\n"
          ],
          "name": "stdout"
        }
      ]
    },
    {
      "cell_type": "markdown",
      "metadata": {
        "id": "X8Ed_J_P7R1t"
      },
      "source": [
        "add time to event data"
      ]
    },
    {
      "cell_type": "code",
      "metadata": {
        "id": "ssE0oU7g7QHT"
      },
      "source": [
        "def sim_event_times(mnist, max_time=700):\n",
        "    digits = []\n",
        "    for i in range(len(mnist)):\n",
        "      digits.append(mnist.get(i).y.numpy()[0])\n",
        "    digits = np.asarray(digits)\n",
        "    betas = 365 * np.exp(-0.6 * digits) / np.log(1.2)\n",
        "    event_times = np.random.exponential(betas)\n",
        "    censored = event_times > max_time\n",
        "    event_times[censored] = max_time\n",
        "    return tt.tuplefy(event_times, ~censored)"
      ],
      "execution_count": null,
      "outputs": []
    },
    {
      "cell_type": "code",
      "metadata": {
        "id": "ZCmEqqFw7TN0"
      },
      "source": [
        "sim_train = sim_event_times(mnist_train)\n",
        "sim_test = sim_event_times(mnist_test)"
      ],
      "execution_count": null,
      "outputs": []
    },
    {
      "cell_type": "code",
      "metadata": {
        "colab": {
          "base_uri": "https://localhost:8080/",
          "height": 263
        },
        "id": "ZNWJsqq17Uye",
        "outputId": "11828b99-6582-4a8b-85d3-8630f00c5811"
      },
      "source": [
        "digits = []\n",
        "for i in range(len(mnist_train)):\n",
        "  digits.append(mnist_train.get(i).y.numpy()[0])\n",
        "digits = np.asarray(digits)\n",
        "\n",
        "for i in range(10):\n",
        "    \n",
        "    idx = digits == i\n",
        "    kaplan_meier(*sim_train.iloc[idx]).rename(i).plot()\n",
        "_ = plt.legend()"
      ],
      "execution_count": null,
      "outputs": [
        {
          "output_type": "display_data",
          "data": {
            "image/png": "[encoded data removed]",
            "text/plain": [
              "<Figure size 432x288 with 1 Axes>"
            ]
          },
          "metadata": {
            "tags": [],
            "needs_background": "light"
          }
        }
      ]
    },
    {
      "cell_type": "code",
      "metadata": {
        "id": "2DYo2Ih07WWI"
      },
      "source": [
        "labtrans = LogisticHazard.label_transform(20)\n",
        "target_train = labtrans.fit_transform(*sim_train)\n",
        "target_test = labtrans.transform(*sim_test)"
      ],
      "execution_count": null,
      "outputs": []
    },
    {
      "cell_type": "code",
      "metadata": {
        "id": "JnX4DMUA7YH6"
      },
      "source": [
        "\n",
        "class MnistSimDatasetSingle(Dataset):\n",
        "    \"\"\"Simulatied data from MNIST. Read a single entry at a time.\n",
        "    \"\"\"\n",
        "    def __init__(self, mnist_dataset, time, event, root, test = False, transform=None, pre_transform=None):\n",
        "        self.mnist_dataset = mnist_dataset\n",
        "        self.time, self.event = tt.tuplefy(time, event).to_tensor()\n",
        "        self.test = test\n",
        "        self.root = root\n",
        "        #self.num_node_features = mnist_dataset.num_node_features\n",
        "\n",
        "    def __len__(self):\n",
        "        return len(self.mnist_dataset)\n",
        "\n",
        "    def __getitem__(self, index):\n",
        "        \n",
        "        \"\"\" - Equivalent to __getitem__ in pytorch\n",
        "            - Is not needed for PyG's InMemoryDataset\n",
        "        \"\"\"\n",
        "        if self.test:\n",
        "            data = torch.load(os.path.join(self.processed_dir, \n",
        "                                 f'test.pt'))\n",
        "        else:\n",
        "            data = torch.load(os.path.join(self.processed_dir, \n",
        "                                 f'training.pt'))   \n",
        "        return data\n",
        "        "
      ],
      "execution_count": null,
      "outputs": []
    },
    {
      "cell_type": "code",
      "metadata": {
        "id": "UnDbvxrl7ZrC"
      },
      "source": [
        "dataset_train = MnistSimDatasetSingle(mnist_train, *target_train,root='data/MNISTSuperpixels', test=False)\n",
        "dataset_test = MnistSimDatasetSingle(mnist_test, *target_test,root='data/MNISTSuperpixels', test=True)"
      ],
      "execution_count": null,
      "outputs": []
    },
    {
      "cell_type": "markdown",
      "metadata": {
        "id": "pwhJZisS7d9g"
      },
      "source": [
        "Define data loaders"
      ]
    },
    {
      "cell_type": "code",
      "metadata": {
        "id": "78XXIt8q7bj-"
      },
      "source": [
        "def collate_fn(batch):\n",
        "    \"\"\"Stacks the entries of a nested tuple\"\"\"\n",
        "    return tt.tuplefy(batch).stack()"
      ],
      "execution_count": null,
      "outputs": []
    },
    {
      "cell_type": "code",
      "metadata": {
        "id": "1mxuX6jc7gox"
      },
      "source": [
        "batch_size = 128"
      ],
      "execution_count": null,
      "outputs": []
    },
    {
      "cell_type": "code",
      "metadata": {
        "id": "Mm37mFwg7iCR"
      },
      "source": [
        "dl_train = DataLoader(dataset_train, batch_size, shuffle=True, collate_fn=collate_fn)\n",
        "dl_test = DataLoader(dataset_test, batch_size, shuffle=False, collate_fn=collate_fn)"
      ],
      "execution_count": null,
      "outputs": []
    },
    {
      "cell_type": "markdown",
      "metadata": {
        "id": "GXeY1Wni7kM3"
      },
      "source": [
        "Define graph neural network"
      ]
    },
    {
      "cell_type": "code",
      "metadata": {
        "id": "RICXnF147jYw"
      },
      "source": [
        "from torch.nn import Linear\n",
        "import torch.nn.functional as F\n",
        "from torch_geometric.nn import GCNConv\n",
        "from torch_geometric.nn import global_mean_pool\n",
        "\n",
        "\n",
        "class GCN(torch.nn.Module):\n",
        "    def __init__(self, hidden_channels):\n",
        "        super(GCN, self).__init__()\n",
        "        torch.manual_seed(12345)\n",
        "        self.conv1 = GCNConv(mnist_train.num_node_features, hidden_channels)\n",
        "        self.conv2 = GCNConv(hidden_channels, hidden_channels)\n",
        "        self.conv3 = GCNConv(hidden_channels, hidden_channels)\n",
        "        self.lin = Linear(hidden_channels,labtrans.out_features)\n",
        "\n",
        "    def forward(self, x, edge_index, batch):\n",
        "        # 1. Obtain node embeddings \n",
        "        x = self.conv1(x, edge_index)\n",
        "        x = x.relu()\n",
        "        x = self.conv2(x, edge_index)\n",
        "        x = x.relu()\n",
        "        x = self.conv3(x, edge_index)\n",
        "\n",
        "        # 2. Readout layer\n",
        "        x = global_mean_pool(x, batch)  # [batch_size, hidden_channels]\n",
        "\n",
        "        # 3. Apply a final classifier\n",
        "        x = F.dropout(x, p=0.5, training=self.training)\n",
        "        x = self.lin(x)\n",
        "        \n",
        "        return x\n"
      ],
      "execution_count": null,
      "outputs": []
    },
    {
      "cell_type": "markdown",
      "metadata": {
        "id": "AkpjK4_Q7noy"
      },
      "source": [
        "training\n",
        "\n"
      ]
    },
    {
      "cell_type": "code",
      "metadata": {
        "colab": {
          "base_uri": "https://localhost:8080/"
        },
        "id": "PrN6Ayyx7nGZ",
        "outputId": "7329133a-0fe7-4b0a-c9e3-1b47dd31d508"
      },
      "source": [
        "net = GCN(hidden_channels=10)\n",
        "print(net)\n",
        "model = LogisticHazard(net, tt.optim.Adam(0.01), duration_index=labtrans.cuts)"
      ],
      "execution_count": null,
      "outputs": [
        {
          "output_type": "stream",
          "text": [
            "GCN(\n",
            "  (conv1): GCNConv(1, 10)\n",
            "  (conv2): GCNConv(10, 10)\n",
            "  (conv3): GCNConv(10, 10)\n",
            "  (lin): Linear(in_features=10, out_features=20, bias=True)\n",
            ")\n"
          ],
          "name": "stdout"
        }
      ]
    },
    {
      "cell_type": "code",
      "metadata": {
        "id": "TGed3CJh7tFY"
      },
      "source": [
        "callbacks = [tt.cb.EarlyStopping(patience=5)]\n",
        "epochs = 10\n",
        "verbose = True\n",
        "log = model.fit_dataloader(dl_train, epochs, callbacks, verbose, val_dataloader=dl_test)"
      ],
      "execution_count": null,
      "outputs": []
    },
    {
      "cell_type": "code",
      "metadata": {
        "id": "r9cUxCie7tl2"
      },
      "source": [
        ""
      ],
      "execution_count": null,
      "outputs": []
    }
  ]
}