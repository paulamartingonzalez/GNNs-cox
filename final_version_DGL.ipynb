{
  "nbformat": 4,
  "nbformat_minor": 0,
  "metadata": {
    "colab": {
      "name": "final_version_DGL.ipynb",
      "provenance": [],
      "authorship_tag": "ABX9TyMg8qPqSbW9pWYKguPu7mvp",
      "include_colab_link": true
    },
    "kernelspec": {
      "name": "python3",
      "display_name": "Python 3"
    },
    "language_info": {
      "name": "python"
    }
  },
  "cells": [
    {
      "cell_type": "markdown",
      "metadata": {
        "id": "view-in-github",
        "colab_type": "text"
      },
      "source": [
        "<a href=\"https://colab.research.google.com/github/paulamartingonzalez/GNNs-cox/blob/main/final_version_DGL.ipynb\" target=\"_parent\"><img src=\"https://colab.research.google.com/assets/colab-badge.svg\" alt=\"Open In Colab\"/></a>"
      ]
    },
    {
      "cell_type": "markdown",
      "metadata": {
        "id": "Inoq1Pn80ZOK"
      },
      "source": [
        "# Time to Event Prediction using Graph Neural Networks:\n",
        "\n"
      ]
    },
    {
      "cell_type": "markdown",
      "metadata": {
        "id": "EpPT25HEcJQ4"
      },
      "source": [
        "This is an extension of this [pycox tutorial with CNNs](https://nbviewer.jupyter.org/github/havakv/pycox/blob/master/examples/04_mnist_dataloaders_cnn.ipynb) to make it work with graph neural networks. It works with DGL at the moment"
      ]
    },
    {
      "cell_type": "markdown",
      "metadata": {
        "id": "Kbywa_HEcblM"
      },
      "source": [
        "## Install and load packages"
      ]
    },
    {
      "cell_type": "code",
      "metadata": {
        "colab": {
          "base_uri": "https://localhost:8080/"
        },
        "id": "cl-q2Imcnicw",
        "outputId": "8b3d7cad-470f-4dec-b5f3-15b32d54a360"
      },
      "source": [
        "!pip install dgl "
      ],
      "execution_count": 1,
      "outputs": [
        {
          "output_type": "stream",
          "name": "stdout",
          "text": [
            "Collecting dgl\n",
            "  Downloading dgl-0.6.1-cp37-cp37m-manylinux1_x86_64.whl (4.4 MB)\n",
            "\u001b[K     |████████████████████████████████| 4.4 MB 33.4 MB/s \n",
            "\u001b[?25hRequirement already satisfied: numpy>=1.14.0 in /usr/local/lib/python3.7/dist-packages (from dgl) (1.19.5)\n",
            "Requirement already satisfied: requests>=2.19.0 in /usr/local/lib/python3.7/dist-packages (from dgl) (2.23.0)\n",
            "Requirement already satisfied: networkx>=2.1 in /usr/local/lib/python3.7/dist-packages (from dgl) (2.6.2)\n",
            "Requirement already satisfied: scipy>=1.1.0 in /usr/local/lib/python3.7/dist-packages (from dgl) (1.4.1)\n",
            "Requirement already satisfied: urllib3!=1.25.0,!=1.25.1,<1.26,>=1.21.1 in /usr/local/lib/python3.7/dist-packages (from requests>=2.19.0->dgl) (1.24.3)\n",
            "Requirement already satisfied: certifi>=2017.4.17 in /usr/local/lib/python3.7/dist-packages (from requests>=2.19.0->dgl) (2021.5.30)\n",
            "Requirement already satisfied: chardet<4,>=3.0.2 in /usr/local/lib/python3.7/dist-packages (from requests>=2.19.0->dgl) (3.0.4)\n",
            "Requirement already satisfied: idna<3,>=2.5 in /usr/local/lib/python3.7/dist-packages (from requests>=2.19.0->dgl) (2.10)\n",
            "Installing collected packages: dgl\n",
            "Successfully installed dgl-0.6.1\n"
          ]
        }
      ]
    },
    {
      "cell_type": "code",
      "metadata": {
        "colab": {
          "base_uri": "https://localhost:8080/"
        },
        "id": "alHgm2fQteRi",
        "outputId": "8fddf2d6-814c-40a1-e3a7-7b3eaefe68f8"
      },
      "source": [
        "!pip install pycox"
      ],
      "execution_count": 2,
      "outputs": [
        {
          "output_type": "stream",
          "name": "stdout",
          "text": [
            "Collecting pycox\n",
            "  Downloading pycox-0.2.2-py3-none-any.whl (73 kB)\n",
            "\u001b[?25l\r\u001b[K     |████▌                           | 10 kB 23.9 MB/s eta 0:00:01\r\u001b[K     |█████████                       | 20 kB 27.7 MB/s eta 0:00:01\r\u001b[K     |█████████████▍                  | 30 kB 29.0 MB/s eta 0:00:01\r\u001b[K     |█████████████████▉              | 40 kB 31.2 MB/s eta 0:00:01\r\u001b[K     |██████████████████████▎         | 51 kB 34.1 MB/s eta 0:00:01\r\u001b[K     |██████████████████████████▊     | 61 kB 36.5 MB/s eta 0:00:01\r\u001b[K     |███████████████████████████████▏| 71 kB 37.8 MB/s eta 0:00:01\r\u001b[K     |████████████████████████████████| 73 kB 2.6 MB/s \n",
            "\u001b[?25hRequirement already satisfied: scikit-learn>=0.21.2 in /usr/local/lib/python3.7/dist-packages (from pycox) (0.22.2.post1)\n",
            "Requirement already satisfied: feather-format>=0.4.0 in /usr/local/lib/python3.7/dist-packages (from pycox) (0.4.1)\n",
            "Requirement already satisfied: requests>=2.22.0 in /usr/local/lib/python3.7/dist-packages (from pycox) (2.23.0)\n",
            "Collecting py7zr>=0.11.3\n",
            "  Downloading py7zr-0.16.1-py3-none-any.whl (65 kB)\n",
            "\u001b[K     |████████████████████████████████| 65 kB 4.7 MB/s \n",
            "\u001b[?25hRequirement already satisfied: h5py>=2.9.0 in /usr/local/lib/python3.7/dist-packages (from pycox) (3.1.0)\n",
            "Requirement already satisfied: numba>=0.44 in /usr/local/lib/python3.7/dist-packages (from pycox) (0.51.2)\n",
            "Collecting torchtuples>=0.2.0\n",
            "  Downloading torchtuples-0.2.2-py3-none-any.whl (41 kB)\n",
            "\u001b[K     |████████████████████████████████| 41 kB 798 kB/s \n",
            "\u001b[?25hRequirement already satisfied: pyarrow>=0.4.0 in /usr/local/lib/python3.7/dist-packages (from feather-format>=0.4.0->pycox) (3.0.0)\n",
            "Requirement already satisfied: numpy>=1.14.5 in /usr/local/lib/python3.7/dist-packages (from h5py>=2.9.0->pycox) (1.19.5)\n",
            "Requirement already satisfied: cached-property in /usr/local/lib/python3.7/dist-packages (from h5py>=2.9.0->pycox) (1.5.2)\n",
            "Requirement already satisfied: setuptools in /usr/local/lib/python3.7/dist-packages (from numba>=0.44->pycox) (57.4.0)\n",
            "Requirement already satisfied: llvmlite<0.35,>=0.34.0.dev0 in /usr/local/lib/python3.7/dist-packages (from numba>=0.44->pycox) (0.34.0)\n",
            "Collecting pyzstd<0.15.0,>=0.14.4\n",
            "  Downloading pyzstd-0.14.4-cp37-cp37m-manylinux2014_x86_64.whl (2.2 MB)\n",
            "\u001b[K     |████████████████████████████████| 2.2 MB 59.2 MB/s \n",
            "\u001b[?25hCollecting multivolumefile>=0.2.3\n",
            "  Downloading multivolumefile-0.2.3-py3-none-any.whl (17 kB)\n",
            "Requirement already satisfied: importlib-metadata in /usr/local/lib/python3.7/dist-packages (from py7zr>=0.11.3->pycox) (4.6.4)\n",
            "Collecting texttable\n",
            "  Downloading texttable-1.6.4-py2.py3-none-any.whl (10 kB)\n",
            "Collecting brotli>=1.0.9\n",
            "  Downloading Brotli-1.0.9-cp37-cp37m-manylinux1_x86_64.whl (357 kB)\n",
            "\u001b[K     |████████████████████████████████| 357 kB 42.1 MB/s \n",
            "\u001b[?25hCollecting bcj-cffi<0.6.0,>=0.5.1\n",
            "  Downloading bcj_cffi-0.5.1-cp37-cp37m-manylinux2014_x86_64.whl (36 kB)\n",
            "Collecting pyppmd>=0.14.0\n",
            "  Downloading pyppmd-0.16.1-cp37-cp37m-manylinux_2_17_x86_64.manylinux2014_x86_64.whl (124 kB)\n",
            "\u001b[K     |████████████████████████████████| 124 kB 66.0 MB/s \n",
            "\u001b[?25hCollecting pycryptodomex>=3.6.6\n",
            "  Downloading pycryptodomex-3.10.1-cp35-abi3-manylinux2010_x86_64.whl (1.9 MB)\n",
            "\u001b[K     |████████████████████████████████| 1.9 MB 35.8 MB/s \n",
            "\u001b[?25hRequirement already satisfied: cffi>=1.14.0 in /usr/local/lib/python3.7/dist-packages (from bcj-cffi<0.6.0,>=0.5.1->py7zr>=0.11.3->pycox) (1.14.6)\n",
            "Requirement already satisfied: pycparser in /usr/local/lib/python3.7/dist-packages (from cffi>=1.14.0->bcj-cffi<0.6.0,>=0.5.1->py7zr>=0.11.3->pycox) (2.20)\n",
            "Requirement already satisfied: certifi>=2017.4.17 in /usr/local/lib/python3.7/dist-packages (from requests>=2.22.0->pycox) (2021.5.30)\n",
            "Requirement already satisfied: idna<3,>=2.5 in /usr/local/lib/python3.7/dist-packages (from requests>=2.22.0->pycox) (2.10)\n",
            "Requirement already satisfied: urllib3!=1.25.0,!=1.25.1,<1.26,>=1.21.1 in /usr/local/lib/python3.7/dist-packages (from requests>=2.22.0->pycox) (1.24.3)\n",
            "Requirement already satisfied: chardet<4,>=3.0.2 in /usr/local/lib/python3.7/dist-packages (from requests>=2.22.0->pycox) (3.0.4)\n",
            "Requirement already satisfied: joblib>=0.11 in /usr/local/lib/python3.7/dist-packages (from scikit-learn>=0.21.2->pycox) (1.0.1)\n",
            "Requirement already satisfied: scipy>=0.17.0 in /usr/local/lib/python3.7/dist-packages (from scikit-learn>=0.21.2->pycox) (1.4.1)\n",
            "Requirement already satisfied: pandas>=0.24.2 in /usr/local/lib/python3.7/dist-packages (from torchtuples>=0.2.0->pycox) (1.1.5)\n",
            "Requirement already satisfied: matplotlib>=3.0.3 in /usr/local/lib/python3.7/dist-packages (from torchtuples>=0.2.0->pycox) (3.2.2)\n",
            "Requirement already satisfied: kiwisolver>=1.0.1 in /usr/local/lib/python3.7/dist-packages (from matplotlib>=3.0.3->torchtuples>=0.2.0->pycox) (1.3.1)\n",
            "Requirement already satisfied: python-dateutil>=2.1 in /usr/local/lib/python3.7/dist-packages (from matplotlib>=3.0.3->torchtuples>=0.2.0->pycox) (2.8.2)\n",
            "Requirement already satisfied: cycler>=0.10 in /usr/local/lib/python3.7/dist-packages (from matplotlib>=3.0.3->torchtuples>=0.2.0->pycox) (0.10.0)\n",
            "Requirement already satisfied: pyparsing!=2.0.4,!=2.1.2,!=2.1.6,>=2.0.1 in /usr/local/lib/python3.7/dist-packages (from matplotlib>=3.0.3->torchtuples>=0.2.0->pycox) (2.4.7)\n",
            "Requirement already satisfied: six in /usr/local/lib/python3.7/dist-packages (from cycler>=0.10->matplotlib>=3.0.3->torchtuples>=0.2.0->pycox) (1.15.0)\n",
            "Requirement already satisfied: pytz>=2017.2 in /usr/local/lib/python3.7/dist-packages (from pandas>=0.24.2->torchtuples>=0.2.0->pycox) (2018.9)\n",
            "Requirement already satisfied: zipp>=0.5 in /usr/local/lib/python3.7/dist-packages (from importlib-metadata->py7zr>=0.11.3->pycox) (3.5.0)\n",
            "Requirement already satisfied: typing-extensions>=3.6.4 in /usr/local/lib/python3.7/dist-packages (from importlib-metadata->py7zr>=0.11.3->pycox) (3.7.4.3)\n",
            "Installing collected packages: texttable, pyzstd, pyppmd, pycryptodomex, multivolumefile, brotli, bcj-cffi, torchtuples, py7zr, pycox\n",
            "Successfully installed bcj-cffi-0.5.1 brotli-1.0.9 multivolumefile-0.2.3 py7zr-0.16.1 pycox-0.2.2 pycryptodomex-3.10.1 pyppmd-0.16.1 pyzstd-0.14.4 texttable-1.6.4 torchtuples-0.2.2\n"
          ]
        }
      ]
    },
    {
      "cell_type": "code",
      "metadata": {
        "colab": {
          "base_uri": "https://localhost:8080/"
        },
        "id": "9SUXb0h7bDw_",
        "outputId": "029cfbea-7590-489b-93d7-1ddc30fea80f"
      },
      "source": [
        "!pip install torchtuples "
      ],
      "execution_count": 3,
      "outputs": [
        {
          "output_type": "stream",
          "name": "stdout",
          "text": [
            "Requirement already satisfied: torchtuples in /usr/local/lib/python3.7/dist-packages (0.2.2)\n",
            "Requirement already satisfied: pandas>=0.24.2 in /usr/local/lib/python3.7/dist-packages (from torchtuples) (1.1.5)\n",
            "Requirement already satisfied: numpy>=1.15.4 in /usr/local/lib/python3.7/dist-packages (from torchtuples) (1.19.5)\n",
            "Requirement already satisfied: matplotlib>=3.0.3 in /usr/local/lib/python3.7/dist-packages (from torchtuples) (3.2.2)\n",
            "Requirement already satisfied: pyparsing!=2.0.4,!=2.1.2,!=2.1.6,>=2.0.1 in /usr/local/lib/python3.7/dist-packages (from matplotlib>=3.0.3->torchtuples) (2.4.7)\n",
            "Requirement already satisfied: python-dateutil>=2.1 in /usr/local/lib/python3.7/dist-packages (from matplotlib>=3.0.3->torchtuples) (2.8.2)\n",
            "Requirement already satisfied: kiwisolver>=1.0.1 in /usr/local/lib/python3.7/dist-packages (from matplotlib>=3.0.3->torchtuples) (1.3.1)\n",
            "Requirement already satisfied: cycler>=0.10 in /usr/local/lib/python3.7/dist-packages (from matplotlib>=3.0.3->torchtuples) (0.10.0)\n",
            "Requirement already satisfied: six in /usr/local/lib/python3.7/dist-packages (from cycler>=0.10->matplotlib>=3.0.3->torchtuples) (1.15.0)\n",
            "Requirement already satisfied: pytz>=2017.2 in /usr/local/lib/python3.7/dist-packages (from pandas>=0.24.2->torchtuples) (2018.9)\n"
          ]
        }
      ]
    },
    {
      "cell_type": "code",
      "metadata": {
        "colab": {
          "base_uri": "https://localhost:8080/"
        },
        "id": "qelYORDbnlZ3",
        "outputId": "771c2ddd-ff9c-4a8c-8655-be17aa2174ca"
      },
      "source": [
        "import dgl\n",
        "import torch\n",
        "import torch.nn as nn\n",
        "import torch.nn.functional as F\n",
        "import numpy as np\n",
        "import matplotlib.pyplot as plt\n",
        "\n",
        "import torch\n",
        "import torch.nn as nn\n",
        "import torch.nn.functional as F\n",
        "from torch.utils.data import Dataset, DataLoader \n",
        "\n",
        "# MNIST is part of torchvision\n",
        "from torchvision import datasets, transforms\n",
        "from random import randint\n",
        "import numpy as np\n",
        "from dgl.nn import GraphConv\n",
        "import torchtuples as tt\n",
        "from pycox.models import LogisticHazard\n",
        "from pycox.utils import kaplan_meier\n",
        "from pycox.evaluation import EvalSurv\n",
        "from torch.utils.data import DataLoader"
      ],
      "execution_count": 4,
      "outputs": [
        {
          "output_type": "stream",
          "name": "stderr",
          "text": [
            "DGL backend not selected or invalid.  Assuming PyTorch for now.\n"
          ]
        },
        {
          "output_type": "stream",
          "name": "stdout",
          "text": [
            "Setting the default backend to \"pytorch\". You can change it in the ~/.dgl/config.json file or export the DGLBACKEND environment variable.  Valid options are: pytorch, mxnet, tensorflow (all lowercase)\n"
          ]
        },
        {
          "output_type": "stream",
          "name": "stderr",
          "text": [
            "Using backend: pytorch\n"
          ]
        }
      ]
    },
    {
      "cell_type": "code",
      "metadata": {
        "colab": {
          "base_uri": "https://localhost:8080/",
          "height": 34
        },
        "id": "QXwhIoRZfTw5",
        "outputId": "4564a9d0-dbc9-45f8-c275-8c5bcc37583a"
      },
      "source": [
        "tt.__version__"
      ],
      "execution_count": 5,
      "outputs": [
        {
          "output_type": "execute_result",
          "data": {
            "application/vnd.google.colaboratory.intrinsic+json": {
              "type": "string"
            },
            "text/plain": [
              "'0.2.2'"
            ]
          },
          "metadata": {},
          "execution_count": 5
        }
      ]
    },
    {
      "cell_type": "markdown",
      "metadata": {
        "id": "GwNGUwqU0g1N"
      },
      "source": [
        "## Simulate data"
      ]
    },
    {
      "cell_type": "markdown",
      "metadata": {
        "id": "6Bqw4WRE0kis"
      },
      "source": [
        "### Time and event (y/n)"
      ]
    },
    {
      "cell_type": "code",
      "metadata": {
        "id": "4H5KoSTJstdJ"
      },
      "source": [
        "def sim_event_times(max_time=700):\n",
        "    digits = []\n",
        "    for _ in range(25):\n",
        "        rnum = randint(0, 10)\n",
        "        digits.append(float(rnum))\n",
        "    digits = np.asarray(digits)\n",
        "    betas = 365 * np.exp(-0.6 * digits) / np.log(1.2)\n",
        "    event_times = np.random.exponential(betas)\n",
        "    censored = event_times > max_time\n",
        "    event_times[censored] = max_time\n",
        "\n",
        "    return tt.tuplefy(event_times, ~censored)\n",
        "\n",
        "\n"
      ],
      "execution_count": 6,
      "outputs": []
    },
    {
      "cell_type": "code",
      "metadata": {
        "id": "Wgb6MyC5tKOQ"
      },
      "source": [
        "sim_train = sim_event_times()\n",
        "sim_test = sim_event_times()"
      ],
      "execution_count": 7,
      "outputs": []
    },
    {
      "cell_type": "code",
      "metadata": {
        "id": "nhA_ZWB9tJCH"
      },
      "source": [
        "labtrans = LogisticHazard.label_transform(20)\n",
        "target_train = labtrans.fit_transform(*sim_train)\n",
        "target_test = labtrans.transform(*sim_test)\n"
      ],
      "execution_count": 8,
      "outputs": []
    },
    {
      "cell_type": "markdown",
      "metadata": {
        "id": "WCz89IkX0oBd"
      },
      "source": [
        "### Create random graphs (with 20 nodes and 4 node features)"
      ]
    },
    {
      "cell_type": "code",
      "metadata": {
        "id": "6X0W3zHtn84I"
      },
      "source": [
        "gs=[]\n",
        "for i in range(25):\n",
        "    g = dgl.graph((torch.randint(0, 20, (100,)), torch.randint(0, 20, (100,))), num_nodes=20)\n",
        "    g = dgl.add_reverse_edges(g)\n",
        "    g = dgl.remove_self_loop(g)\n",
        "    #g = dgl.add_self_loop(g)\n",
        "    g.ndata['h_n'] = torch.randn(g.num_nodes(), 4)\n",
        "    \n",
        "    gs.append((g,(torch.tensor(target_train[0][i]),torch.tensor(target_train[1][i])))) \n"
      ],
      "execution_count": 9,
      "outputs": []
    },
    {
      "cell_type": "code",
      "metadata": {
        "id": "z7l4AeKzfFOf"
      },
      "source": [
        "gs_test=[]\n",
        "for i in range(25):\n",
        "    g = dgl.graph((torch.randint(0, 20, (100,)), torch.randint(0, 20, (100,))), num_nodes=20)\n",
        "    g = dgl.add_reverse_edges(g)\n",
        "    g = dgl.remove_self_loop(g)\n",
        "    #g = dgl.add_self_loop(g)\n",
        "    g.ndata['h_n'] = torch.randn(g.num_nodes(), 4)\n",
        "    \n",
        "    gs_test.append((g,(torch.tensor(target_train[0][i]),torch.tensor(target_train[1][i])))) "
      ],
      "execution_count": 10,
      "outputs": []
    },
    {
      "cell_type": "markdown",
      "metadata": {
        "id": "r989sEKc1ONQ"
      },
      "source": [
        "gs has shape: (graph,(time,event)),(graph,(time,event)),(graph,(time,event)),..."
      ]
    },
    {
      "cell_type": "markdown",
      "metadata": {
        "id": "9qJzo19f0wXk"
      },
      "source": [
        "### Custom collate function"
      ]
    },
    {
      "cell_type": "code",
      "metadata": {
        "id": "DFtubb0SZ7Rm"
      },
      "source": [
        "def collate(samples):\n",
        "    graphs, labels = map(list, zip(*samples)) # you could just do zip(*samples)\n",
        "    batched_graph = dgl.batch(graphs)\n",
        "    return batched_graph, tt.tuplefy(labels).stack()"
      ],
      "execution_count": 11,
      "outputs": []
    },
    {
      "cell_type": "code",
      "metadata": {
        "colab": {
          "base_uri": "https://localhost:8080/"
        },
        "id": "rdCUO3ThsHSy",
        "outputId": "6606f399-2cc5-499d-d5a7-3904912740ef"
      },
      "source": [
        "batch = [gs[0], gs[1]]\n",
        "collate(batch)"
      ],
      "execution_count": 12,
      "outputs": [
        {
          "output_type": "execute_result",
          "data": {
            "text/plain": [
              "(Graph(num_nodes=40, num_edges=374,\n",
              "       ndata_schemes={'h_n': Scheme(shape=(4,), dtype=torch.float32)}\n",
              "       edata_schemes={}), (tensor([1, 1]), tensor([1., 1.])))"
            ]
          },
          "metadata": {},
          "execution_count": 12
        }
      ]
    },
    {
      "cell_type": "markdown",
      "metadata": {
        "id": "-uQwaszt05lZ"
      },
      "source": [
        "### Dataloaders"
      ]
    },
    {
      "cell_type": "code",
      "metadata": {
        "id": "mqW_Q-2x02K7"
      },
      "source": [
        "\n",
        "data_loader = DataLoader(gs, batch_size=int(10), shuffle=True,\n",
        "                            collate_fn=collate)\n",
        "test_data_loader = DataLoader(gs_test, batch_size=int(10), shuffle=True,collate_fn=collate)"
      ],
      "execution_count": 13,
      "outputs": []
    },
    {
      "cell_type": "markdown",
      "metadata": {
        "id": "1ESF1Y-E0_AQ"
      },
      "source": [
        "# Training"
      ]
    },
    {
      "cell_type": "markdown",
      "metadata": {
        "id": "arTY7il-1CKJ"
      },
      "source": [
        "##  Define model"
      ]
    },
    {
      "cell_type": "code",
      "metadata": {
        "id": "pXuUT-AAaAhy"
      },
      "source": [
        "class GCN(nn.Module):\n",
        "    def __init__(self, in_feats, h_feats, num_classes):\n",
        "        super(GCN, self).__init__()\n",
        "        self.conv1 = GraphConv(in_feats, h_feats)\n",
        "        self.conv2 = GraphConv(h_feats, num_classes)\n",
        "    def forward(self, g):\n",
        "            in_feat = g.ndata['h_n'].float()\n",
        "            h = self.conv1(g, in_feat)\n",
        "            h = F.relu(h)\n",
        "            h = self.conv2(g, h)\n",
        "            g.ndata['h'] = h\n",
        "            return dgl.mean_nodes(g, 'h')"
      ],
      "execution_count": 14,
      "outputs": []
    },
    {
      "cell_type": "code",
      "metadata": {
        "colab": {
          "base_uri": "https://localhost:8080/"
        },
        "id": "TPy2JJcGaHlI",
        "outputId": "6855539d-c660-497b-d8f6-cf738a4e0f01"
      },
      "source": [
        "net = GCN(4, 16, labtrans.out_features)\n",
        "batch = next(iter(data_loader))\n",
        "x, y = batch\n",
        "net(x)"
      ],
      "execution_count": 15,
      "outputs": [
        {
          "output_type": "execute_result",
          "data": {
            "text/plain": [
              "tensor([[-4.5794e-02,  8.6477e-02,  5.5732e-02, -6.3307e-02,  1.8604e-03,\n",
              "         -1.5302e-01,  1.5903e-02, -7.4000e-02, -6.9730e-02, -1.7162e-02,\n",
              "          7.2923e-02,  8.3221e-02, -3.7533e-02, -1.1566e-01,  8.2875e-02,\n",
              "         -9.3121e-02,  1.5381e-03,  2.8615e-02,  1.7524e-01, -2.1946e-02],\n",
              "        [-5.2044e-02,  1.2953e-01, -2.7418e-02, -1.1707e-01,  9.2657e-02,\n",
              "         -1.5501e-01,  1.1506e-01, -1.7365e-01, -1.5935e-01, -1.9717e-02,\n",
              "         -2.2669e-02,  2.3560e-03, -1.1470e-01, -1.6384e-01, -1.1166e-02,\n",
              "         -1.8670e-01, -3.0518e-02, -3.4080e-02,  3.2733e-01,  5.9036e-02],\n",
              "        [-4.2378e-02,  5.8312e-02, -3.5537e-02,  3.1402e-02,  1.7470e-02,\n",
              "         -4.1884e-02, -3.7603e-03, -1.1941e-02, -4.9609e-02,  5.2181e-02,\n",
              "          6.2873e-02, -3.7718e-03,  9.0500e-03, -7.2232e-02,  3.2381e-02,\n",
              "         -2.1242e-02,  1.9013e-02,  2.6604e-02,  9.0883e-02, -4.8537e-02],\n",
              "        [-3.8813e-02,  1.4114e-01, -1.2298e-01, -4.8441e-02,  1.0499e-01,\n",
              "         -1.0974e-01,  7.8053e-02, -1.4378e-01, -6.4042e-02, -4.3315e-03,\n",
              "          1.4152e-02, -1.3744e-02, -4.8353e-02, -6.6017e-02, -8.2490e-03,\n",
              "         -7.7468e-02, -2.9776e-03, -6.0142e-03,  2.6894e-01,  2.4105e-02],\n",
              "        [ 7.1382e-03,  2.0827e-01, -3.6988e-01,  6.0123e-02,  1.1877e-01,\n",
              "          1.5729e-01,  1.6669e-01, -1.6908e-01, -7.8986e-02,  1.6986e-01,\n",
              "          7.1612e-02, -2.6610e-01, -1.3063e-02, -1.9210e-01, -5.3024e-02,\n",
              "         -1.1944e-01,  1.4444e-02,  9.4694e-04,  1.9842e-01, -4.0317e-02],\n",
              "        [-6.8348e-02,  8.5928e-02, -4.0497e-02, -4.3042e-03,  6.2595e-02,\n",
              "         -1.1974e-01,  1.1356e-02, -6.2344e-02, -9.4849e-02,  2.8425e-02,\n",
              "          3.7063e-02,  2.6047e-02, -2.2383e-02, -6.5348e-02,  2.8733e-02,\n",
              "         -6.3430e-02,  1.1202e-02,  2.5086e-02,  1.9937e-01, -4.1040e-02],\n",
              "        [-7.5290e-03,  1.1904e-01, -2.3871e-01,  1.0063e-01,  5.1653e-02,\n",
              "          1.3419e-01,  9.1903e-02, -6.1744e-02, -5.7490e-02,  1.1982e-01,\n",
              "          4.7261e-02, -1.6693e-01,  1.6582e-02, -1.4461e-01, -3.1515e-02,\n",
              "         -4.3559e-02,  4.8178e-02, -3.2972e-02,  7.2934e-02, -3.9998e-02],\n",
              "        [-2.1601e-02,  8.0264e-02, -2.1147e-03, -5.6728e-02,  2.0923e-02,\n",
              "         -1.8442e-02,  4.2394e-02, -1.3274e-01, -5.5811e-02,  7.1995e-03,\n",
              "         -1.2800e-04,  1.1503e-02, -8.6375e-02, -1.4422e-01, -2.3664e-02,\n",
              "         -6.5991e-02, -1.5805e-03, -1.1867e-02,  1.7173e-01,  1.7385e-02],\n",
              "        [-2.7350e-02,  7.5687e-02, -1.3408e-01,  1.0365e-01,  2.4112e-02,\n",
              "          8.1860e-02,  5.5533e-02, -1.6645e-02, -8.6488e-02,  9.0901e-02,\n",
              "          6.4773e-02, -5.8882e-02,  3.9852e-02, -1.3503e-01, -2.9362e-03,\n",
              "          5.5092e-03,  6.9846e-02, -7.9067e-02,  2.2219e-02, -3.4967e-02],\n",
              "        [-1.0538e-01,  1.2682e-01, -1.9787e-01,  1.3449e-02,  1.7843e-01,\n",
              "         -1.2653e-01,  6.3795e-02, -5.4897e-02, -1.4099e-01,  8.9210e-02,\n",
              "          8.2337e-03, -1.4444e-01, -1.1686e-02, -1.9912e-02, -1.2863e-02,\n",
              "         -1.7653e-01, -7.2470e-02,  8.1704e-02,  3.2083e-01, -4.8291e-02]],\n",
              "       grad_fn=<DivBackward0>)"
            ]
          },
          "metadata": {},
          "execution_count": 15
        }
      ]
    },
    {
      "cell_type": "markdown",
      "metadata": {
        "id": "ebV4zQn7e5YJ"
      },
      "source": [
        "## Train"
      ]
    },
    {
      "cell_type": "code",
      "metadata": {
        "id": "AGiuKQEv1laK"
      },
      "source": [
        "model = LogisticHazard(net, tt.optim.Adam(0.01), duration_index=labtrans.cuts)"
      ],
      "execution_count": 16,
      "outputs": []
    },
    {
      "cell_type": "code",
      "metadata": {
        "colab": {
          "base_uri": "https://localhost:8080/"
        },
        "id": "7U8QikQR2C56",
        "outputId": "812d3caf-53f4-4fdc-fb74-dc42c08e5291"
      },
      "source": [
        "callbacks = [tt.cb.EarlyStopping(patience=5)]\n",
        "epochs = 50\n",
        "verbose = True\n",
        "log = model.fit_dataloader(data_loader, epochs, callbacks, verbose, val_dataloader=test_data_loader)"
      ],
      "execution_count": 17,
      "outputs": [
        {
          "output_type": "stream",
          "name": "stdout",
          "text": [
            "0:\t[0s / 0s],\t\ttrain_loss: 5.8121,\tval_loss: 6.0089\n",
            "1:\t[0s / 0s],\t\ttrain_loss: 5.9061,\tval_loss: 6.2271\n",
            "2:\t[0s / 0s],\t\ttrain_loss: 5.6763,\tval_loss: 5.6877\n",
            "3:\t[0s / 0s],\t\ttrain_loss: 5.6818,\tval_loss: 5.0862\n",
            "4:\t[0s / 0s],\t\ttrain_loss: 5.0113,\tval_loss: 4.9631\n",
            "5:\t[0s / 0s],\t\ttrain_loss: 4.8330,\tval_loss: 4.6452\n",
            "6:\t[0s / 0s],\t\ttrain_loss: 4.4345,\tval_loss: 4.1580\n",
            "7:\t[0s / 0s],\t\ttrain_loss: 3.9018,\tval_loss: 3.6247\n",
            "8:\t[0s / 0s],\t\ttrain_loss: 3.3587,\tval_loss: 3.2816\n",
            "9:\t[0s / 0s],\t\ttrain_loss: 3.0296,\tval_loss: 2.9614\n",
            "10:\t[0s / 0s],\t\ttrain_loss: 2.8445,\tval_loss: 2.7127\n",
            "11:\t[0s / 0s],\t\ttrain_loss: 2.5309,\tval_loss: 2.4592\n",
            "12:\t[0s / 0s],\t\ttrain_loss: 2.3359,\tval_loss: 2.2850\n",
            "13:\t[0s / 0s],\t\ttrain_loss: 2.1859,\tval_loss: 2.2432\n",
            "14:\t[0s / 0s],\t\ttrain_loss: 2.0022,\tval_loss: 2.0329\n",
            "15:\t[0s / 0s],\t\ttrain_loss: 1.9066,\tval_loss: 2.1036\n",
            "16:\t[0s / 0s],\t\ttrain_loss: 1.9142,\tval_loss: 2.0974\n",
            "17:\t[0s / 0s],\t\ttrain_loss: 2.0406,\tval_loss: 2.0729\n",
            "18:\t[0s / 0s],\t\ttrain_loss: 1.8225,\tval_loss: 1.9778\n",
            "19:\t[0s / 0s],\t\ttrain_loss: 1.8614,\tval_loss: 1.9951\n",
            "20:\t[0s / 0s],\t\ttrain_loss: 1.8190,\tval_loss: 1.9524\n",
            "21:\t[0s / 0s],\t\ttrain_loss: 1.7340,\tval_loss: 1.8469\n",
            "22:\t[0s / 0s],\t\ttrain_loss: 1.7436,\tval_loss: 1.9952\n",
            "23:\t[0s / 0s],\t\ttrain_loss: 1.7044,\tval_loss: 2.0323\n",
            "24:\t[0s / 0s],\t\ttrain_loss: 1.6995,\tval_loss: 1.8063\n",
            "25:\t[0s / 0s],\t\ttrain_loss: 1.6691,\tval_loss: 1.9761\n",
            "26:\t[0s / 0s],\t\ttrain_loss: 1.6450,\tval_loss: 1.9746\n",
            "27:\t[0s / 0s],\t\ttrain_loss: 1.7471,\tval_loss: 1.8880\n",
            "28:\t[0s / 0s],\t\ttrain_loss: 1.6683,\tval_loss: 1.9141\n",
            "29:\t[0s / 0s],\t\ttrain_loss: 1.7199,\tval_loss: 1.9614\n"
          ]
        }
      ]
    },
    {
      "cell_type": "code",
      "metadata": {
        "id": "ijaYtfSS2QsP",
        "colab": {
          "base_uri": "https://localhost:8080/",
          "height": 263
        },
        "outputId": "2a25d9a0-c2a5-4ca0-800a-d377cb793355"
      },
      "source": [
        "_ = log.plot()"
      ],
      "execution_count": 18,
      "outputs": [
        {
          "output_type": "display_data",
          "data": {
            "image/png": "[encoded data removed]",
            "text/plain": [
              "<Figure size 432x288 with 1 Axes>"
            ]
          },
          "metadata": {
            "needs_background": "light"
          }
        }
      ]
    },
    {
      "cell_type": "markdown",
      "metadata": {
        "id": "NK422seceIxo"
      },
      "source": [
        "# Define test set and evaluate performance"
      ]
    },
    {
      "cell_type": "code",
      "metadata": {
        "id": "xj2-s4tBePfW"
      },
      "source": [
        "def collate_x(samples):\n",
        "    graphs, labels = map(list, zip(*samples)) # you could just do zip(*samples)\n",
        "    batched_graph = dgl.batch(graphs)\n",
        "    return batched_graph"
      ],
      "execution_count": 19,
      "outputs": []
    },
    {
      "cell_type": "code",
      "metadata": {
        "colab": {
          "base_uri": "https://localhost:8080/"
        },
        "id": "IKgsymTqeR_9",
        "outputId": "b9300f29-1acd-40a4-d796-cf793eaebe35"
      },
      "source": [
        "batch = [gs_test[0], gs_test[1]]\n",
        "collate_x(batch)"
      ],
      "execution_count": 20,
      "outputs": [
        {
          "output_type": "execute_result",
          "data": {
            "text/plain": [
              "Graph(num_nodes=40, num_edges=386,\n",
              "      ndata_schemes={'h_n': Scheme(shape=(4,), dtype=torch.float32)}\n",
              "      edata_schemes={})"
            ]
          },
          "metadata": {},
          "execution_count": 20
        }
      ]
    },
    {
      "cell_type": "code",
      "metadata": {
        "id": "U_Mc6pR6eVXo"
      },
      "source": [
        "test_data_loader_x = DataLoader(gs_test, batch_size=int(10), shuffle=True,collate_fn=collate_x)"
      ],
      "execution_count": 21,
      "outputs": []
    },
    {
      "cell_type": "code",
      "metadata": {
        "colab": {
          "base_uri": "https://localhost:8080/"
        },
        "id": "SuLUgAMchMCP",
        "outputId": "3d2184d6-6e6b-42d7-fde1-c75218f0feca"
      },
      "source": [
        "model.predict(test_data_loader_x)"
      ],
      "execution_count": 22,
      "outputs": [
        {
          "output_type": "execute_result",
          "data": {
            "text/plain": [
              "array([[-4.798245  , -0.92118704, -3.5816798 , -4.186797  , -2.0678196 ,\n",
              "        -4.117856  , -2.2151127 , -1.1830494 , -4.821149  , -4.1638484 ,\n",
              "        -4.4167624 , -4.6782527 , -2.5513194 , -5.1251745 , -4.6410313 ,\n",
              "        -4.5474567 , -1.6552509 , -4.662274  , -2.3635573 , -4.332309  ],\n",
              "       [-4.6886435 , -0.5205902 , -3.5594401 , -4.3803973 , -1.8799019 ,\n",
              "        -4.4341598 , -1.6324934 , -1.3669941 , -4.730414  , -4.149429  ,\n",
              "        -4.3998413 , -4.7482    , -2.302448  , -4.606675  , -4.5702314 ,\n",
              "        -4.757222  , -2.3080206 , -4.3208456 , -1.8888766 , -4.180713  ],\n",
              "       [-4.4625587 , -0.61779594, -3.5426433 , -4.1573935 , -1.7108543 ,\n",
              "        -4.1538086 , -1.6021783 , -1.2581296 , -4.5026846 , -3.930956  ,\n",
              "        -4.193631  , -4.645611  , -2.1352415 , -4.403216  , -4.338202  ,\n",
              "        -4.5607085 , -2.0640693 , -4.0638685 , -1.9025398 , -4.084797  ],\n",
              "       [-4.736859  , -0.45002803, -3.3850684 , -4.565425  , -1.9420302 ,\n",
              "        -4.5737114 , -1.6194706 , -1.6121035 , -4.802896  , -4.22576   ,\n",
              "        -4.4225793 , -4.776066  , -2.3303666 , -4.737384  , -4.574517  ,\n",
              "        -4.879079  , -2.65268   , -4.269305  , -1.830764  , -4.275718  ],\n",
              "       [-4.9131994 , -0.61779916, -3.4654434 , -4.4855213 , -2.0751572 ,\n",
              "        -4.6028733 , -1.7710034 , -1.5612671 , -4.967403  , -4.292534  ,\n",
              "        -4.471423  , -4.8026915 , -2.1647546 , -4.837244  , -4.55535   ,\n",
              "        -4.925295  , -2.4986882 , -4.436845  , -2.2277462 , -4.5051374 ],\n",
              "       [-4.5720983 , -1.0562146 , -3.6829178 , -3.9657512 , -1.870753  ,\n",
              "        -3.786841  , -2.2429738 , -0.96952677, -4.5532002 , -3.9670842 ,\n",
              "        -4.258073  , -4.641778  , -2.4992142 , -5.0114627 , -4.4890103 ,\n",
              "        -4.3516455 , -1.2845364 , -4.4635334 , -2.3079438 , -4.165105  ],\n",
              "       [-4.67626   , -1.2971838 , -3.85256   , -3.9444547 , -1.8472574 ,\n",
              "        -3.8617985 , -1.9135969 , -1.0391192 , -4.784648  , -3.803722  ,\n",
              "        -4.142796  , -4.9845552 , -1.4645151 , -4.618257  , -4.164382  ,\n",
              "        -4.65914   , -1.4761211 , -4.2119064 , -3.0770426 , -4.687457  ],\n",
              "       [-4.9602113 , -0.6964558 , -3.2681134 , -4.3838835 , -2.2340474 ,\n",
              "        -4.534439  , -1.9190798 , -1.5724089 , -5.0364437 , -4.2595644 ,\n",
              "        -4.39401   , -4.639947  , -2.1290853 , -4.9504275 , -4.497375  ,\n",
              "        -4.8209057 , -2.4132085 , -4.540745  , -2.4712167 , -4.5597754 ],\n",
              "       [-4.629849  , -0.6069883 , -3.1314864 , -4.3928776 , -1.9788212 ,\n",
              "        -4.2950106 , -1.874136  , -1.5714465 , -4.6509748 , -4.130103  ,\n",
              "        -4.23744   , -4.5063715 , -2.410376  , -4.924306  , -4.3912597 ,\n",
              "        -4.673543  , -2.4028    , -4.2253532 , -1.9081547 , -4.1977677 ],\n",
              "       [-4.2916784 , -0.7541053 , -3.8784077 , -4.1020684 , -1.4463837 ,\n",
              "        -3.894225  , -1.6296022 , -0.99874   , -4.284704  , -3.8327358 ,\n",
              "        -4.163675  , -4.8407435 , -2.2517352 , -4.413083  , -4.361462  ,\n",
              "        -4.508473  , -1.6650854 , -3.9480395 , -1.7421124 , -3.945692  ],\n",
              "       [-4.932447  , -0.4107934 , -3.396379  , -4.6139307 , -2.1035895 ,\n",
              "        -4.8083487 , -1.6440833 , -1.6715084 , -4.9730616 , -4.366801  ,\n",
              "        -4.5254483 , -4.7857914 , -2.268958  , -4.758153  , -4.6322627 ,\n",
              "        -4.9827566 , -2.790051  , -4.422041  , -1.9773254 , -4.429277  ],\n",
              "       [-4.6967793 , -0.7122787 , -3.3268342 , -4.3473516 , -2.0331416 ,\n",
              "        -4.232068  , -2.0736299 , -1.4001372 , -4.6833673 , -4.203077  ,\n",
              "        -4.3801    , -4.560857  , -2.6436753 , -5.0838795 , -4.576611  ,\n",
              "        -4.5933824 , -2.0660172 , -4.4809637 , -1.975826  , -4.183366  ],\n",
              "       [-4.9075065 , -0.39738116, -3.376746  , -4.6567025 , -2.0685484 ,\n",
              "        -4.7733183 , -1.633001  , -1.7092097 , -4.963075  , -4.373273  ,\n",
              "        -4.5390754 , -4.8020077 , -2.323934  , -4.8127394 , -4.651571  ,\n",
              "        -5.013071  , -2.8379467 , -4.4188213 , -1.9052731 , -4.3889723 ],\n",
              "       [-4.5018625 , -1.0495601 , -3.5498881 , -3.858863  , -1.7699493 ,\n",
              "        -3.8206515 , -1.8381312 , -1.1080835 , -4.5492787 , -3.7386234 ,\n",
              "        -4.0273066 , -4.6564517 , -1.6807072 , -4.4751205 , -4.095906  ,\n",
              "        -4.4671745 , -1.6555536 , -4.02118   , -2.5860534 , -4.3581543 ],\n",
              "       [-5.7205315 , -0.67880356, -3.0970476 , -4.8996296 , -2.9138365 ,\n",
              "        -5.30376   , -2.17479   , -2.0363371 , -5.8450193 , -4.8437014 ,\n",
              "        -4.815926  , -4.8687615 , -2.1305676 , -5.616194  , -4.8483667 ,\n",
              "        -5.38689   , -3.0706525 , -5.2008996 , -3.1404307 , -5.2924395 ],\n",
              "       [-5.106715  , -0.5532017 , -3.3016198 , -4.6010656 , -2.302775  ,\n",
              "        -4.8239055 , -1.8772583 , -1.7184632 , -5.1499524 , -4.4462404 ,\n",
              "        -4.5754766 , -4.7526317 , -2.274601  , -4.9987826 , -4.662534  ,\n",
              "        -5.001613  , -2.7269065 , -4.628468  , -2.3100264 , -4.63478   ],\n",
              "       [-4.680872  , -0.52776545, -3.2869003 , -4.3838763 , -2.0160832 ,\n",
              "        -4.4011827 , -1.8312336 , -1.4842379 , -4.695987  , -4.190825  ,\n",
              "        -4.365453  , -4.5398073 , -2.495443  , -4.8187857 , -4.542148  ,\n",
              "        -4.6391306 , -2.3371918 , -4.383386  , -1.863549  , -4.1480703 ],\n",
              "       [-5.086985  , -0.3282003 , -3.0371928 , -4.756944  , -2.3706834 ,\n",
              "        -4.958612  , -1.8025777 , -1.9238033 , -5.1716185 , -4.5436954 ,\n",
              "        -4.5806603 , -4.5805035 , -2.4732754 , -5.0835238 , -4.697343  ,\n",
              "        -5.0300217 , -3.0416589 , -4.676026  , -2.0563035 , -4.5040264 ],\n",
              "       [-4.252346  , -0.8960282 , -3.74138   , -4.039707  , -1.5526366 ,\n",
              "        -3.702329  , -2.0136666 , -0.9313096 , -4.168241  , -3.8566308 ,\n",
              "        -4.1379614 , -4.6542926 , -2.624399  , -4.751902  , -4.4032054 ,\n",
              "        -4.267922  , -1.3434305 , -4.0966434 , -1.7272766 , -3.8600678 ],\n",
              "       [-4.4096384 , -1.0181807 , -3.8994567 , -3.9767952 , -1.6249231 ,\n",
              "        -3.74087   , -1.9674566 , -0.92289436, -4.4117675 , -3.8851433 ,\n",
              "        -4.204046  , -4.8096447 , -2.2845373 , -4.7371335 , -4.3696623 ,\n",
              "        -4.441886  , -1.2948298 , -4.224605  , -2.184751  , -4.106517  ],\n",
              "       [-5.6132646 , -0.6572596 , -3.2380378 , -4.811219  , -2.7743816 ,\n",
              "        -5.140514  , -2.2279596 , -1.8872678 , -5.723714  , -4.793599  ,\n",
              "        -4.8442397 , -4.83366   , -2.4046984 , -5.5840607 , -4.966695  ,\n",
              "        -5.2228665 , -2.8270802 , -5.267279  , -2.8982282 , -5.0726924 ],\n",
              "       [-5.2366323 , -0.5394185 , -3.2262738 , -4.696685  , -2.3790836 ,\n",
              "        -4.998223  , -1.7756313 , -1.8787466 , -5.3324556 , -4.4770613 ,\n",
              "        -4.556179  , -4.830865  , -1.9876171 , -4.9768915 , -4.6014185 ,\n",
              "        -5.1728864 , -3.0192876 , -4.5925236 , -2.533752  , -4.8655643 ],\n",
              "       [-4.990527  , -0.40651435, -3.3894699 , -4.6539583 , -2.172706  ,\n",
              "        -4.823223  , -1.7646875 , -1.6884849 , -5.0546494 , -4.465675  ,\n",
              "        -4.6081057 , -4.7584524 , -2.488422  , -4.954725  , -4.744616  ,\n",
              "        -4.971701  , -2.7124486 , -4.6237955 , -1.9914551 , -4.4333367 ],\n",
              "       [-4.8866386 , -0.4523046 , -3.2232227 , -4.6185975 , -2.1796947 ,\n",
              "        -4.651946  , -1.9411329 , -1.6659092 , -4.8893747 , -4.429877  ,\n",
              "        -4.553589  , -4.581836  , -2.7264867 , -5.0936604 , -4.732314  ,\n",
              "        -4.8034897 , -2.587794  , -4.6132636 , -1.8303578 , -4.2750273 ],\n",
              "       [-4.6206145 , -0.45328993, -3.528686  , -4.354673  , -1.7839628 ,\n",
              "        -4.4558887 , -1.4626801 , -1.4533235 , -4.6637464 , -4.077726  ,\n",
              "        -4.3264866 , -4.7618427 , -2.0812228 , -4.380753  , -4.439166  ,\n",
              "        -4.7807264 , -2.5114806 , -4.1031785 , -1.8289436 , -4.1861696 ]],\n",
              "      dtype=float32)"
            ]
          },
          "metadata": {},
          "execution_count": 22
        }
      ]
    },
    {
      "cell_type": "code",
      "metadata": {
        "id": "t16dMAR_b2k9"
      },
      "source": [
        "surv = model.predict_surv_df(test_data_loader_x)"
      ],
      "execution_count": 23,
      "outputs": []
    },
    {
      "cell_type": "code",
      "metadata": {
        "id": "Ax_59HpQdNcE"
      },
      "source": [
        "surv = model.interpolate(10).predict_surv_df(test_data_loader_x)"
      ],
      "execution_count": 24,
      "outputs": []
    },
    {
      "cell_type": "code",
      "metadata": {
        "id": "yD8mo1KKefS3"
      },
      "source": [
        "ev = EvalSurv(surv, *sim_test, 'km')"
      ],
      "execution_count": 25,
      "outputs": []
    },
    {
      "cell_type": "code",
      "metadata": {
        "colab": {
          "base_uri": "https://localhost:8080/"
        },
        "id": "PDo57mTGenxY",
        "outputId": "e06ca971-360e-460d-bdc0-b7bce56d9ba9"
      },
      "source": [
        "ev.concordance_td()"
      ],
      "execution_count": 26,
      "outputs": [
        {
          "output_type": "stream",
          "name": "stderr",
          "text": [
            "/usr/local/lib/python3.7/dist-packages/numba/np/ufunc/parallel.py:363: NumbaWarning: The TBB threading layer requires TBB version 2019.5 or later i.e., TBB_INTERFACE_VERSION >= 11005. Found TBB_INTERFACE_VERSION = 9107. The TBB threading layer is disabled.\n",
            "  warnings.warn(problem)\n"
          ]
        },
        {
          "output_type": "execute_result",
          "data": {
            "text/plain": [
              "0.47278911564625853"
            ]
          },
          "metadata": {},
          "execution_count": 26
        }
      ]
    },
    {
      "cell_type": "code",
      "metadata": {
        "id": "i7wFqM0QeqwV"
      },
      "source": [
        ""
      ],
      "execution_count": null,
      "outputs": []
    }
  ]
}